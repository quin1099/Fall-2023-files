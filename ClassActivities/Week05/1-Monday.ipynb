{
  "cells": [
    {
      "cell_type": "markdown",
      "metadata": {},
      "source": [
        "# Monday, September 15\n",
        "## Before Class:\n",
        "Find a new group to sit with\n",
        "\n",
        "## Announcements and Reminders\n",
        "- Chapter 5 Exercises: Due Today\n",
        "- Read Chapter 6: Due Today\n",
        "- Programming Assignment 2: Due Wednesday.  \n",
        "  - Student hour today: 1:30-3:30\n",
        "- Read Chapter 7: Due Wednesday\n",
        "\n",
        "### Questions:"
      ]
    },
    {
      "cell_type": "markdown",
      "metadata": {
        "id": "rPcP5eWXAO1Y"
      },
      "source": [
        "\n",
        "## Activity: Guess who, part three\n",
        "\n",
        "We have been thinking about how to write a program that can narrow down choices by considering the answers to questions.  For arbitrary animals, thinking about what questions to ask can be challenging, and then keeping track of what animals are still viable is also challenging.\n",
        "\n",
        "Let's simplify this by changing the game: instead of picking one of 26 animals, let's pick one of 1000 numbers."
      ]
    },
    {
      "cell_type": "code",
      "execution_count": null,
      "metadata": {},
      "outputs": [],
      "source": [
        "print(\"Hi!  I'm the python magician.  Think of any number less than 1000.\")\n",
        "\n"
      ]
    },
    {
      "cell_type": "markdown",
      "metadata": {},
      "source": [
        "Add some questions above to try to guess the number.  Use conditionals.  How many lines of code will you need to write?\n",
        "\n",
        "You might want to use a function to consolidate some of the lines of code you keep repeating."
      ]
    },
    {
      "cell_type": "markdown",
      "metadata": {},
      "source": [
        "### Ask for a pony\n",
        "\n",
        "Forget for a moment that you are trying to implement this program in python.  Or that you are trying to implement this as all.  What would be a good strategy to get an answer?\n",
        "\n",
        "Then ask: what sort of mechanism would you need to implement this?  If you could have a pony..."
      ]
    },
    {
      "cell_type": "code",
      "execution_count": 3,
      "metadata": {},
      "outputs": [
        {
          "name": "stdout",
          "output_type": "stream",
          "text": [
            "Hi\n"
          ]
        },
        {
          "ename": "TypeError",
          "evalue": "Kernel.raw_input() takes from 1 to 2 positional arguments but 3 were given",
          "output_type": "error",
          "traceback": [
            "\u001b[0;31m---------------------------------------------------------------------------\u001b[0m",
            "\u001b[0;31mTypeError\u001b[0m                                 Traceback (most recent call last)",
            "\u001b[1;32m/workspaces/Fall-2023-files/ClassActivities/Week05/1-Monday.ipynb Cell 6\u001b[0m line \u001b[0;36m6\n\u001b[1;32m      <a href='vscode-notebook-cell://codespaces%2Banimated-halibut-g4q645wpx64phwgw6/workspaces/Fall-2023-files/ClassActivities/Week05/1-Monday.ipynb#W5sdnNjb2RlLXJlbW90ZQ%3D%3D?line=2'>3</a>\u001b[0m answer \u001b[39m=\u001b[39m \u001b[39minput\u001b[39m(\u001b[39m\"\u001b[39m\u001b[39mIs your number greater then 1?\u001b[39m\u001b[39m\"\u001b[39m)\n\u001b[1;32m      <a href='vscode-notebook-cell://codespaces%2Banimated-halibut-g4q645wpx64phwgw6/workspaces/Fall-2023-files/ClassActivities/Week05/1-Monday.ipynb#W5sdnNjb2RlLXJlbW90ZQ%3D%3D?line=4'>5</a>\u001b[0m \u001b[39mwhile\u001b[39;00m answer \u001b[39m==\u001b[39m \u001b[39m\"\u001b[39m\u001b[39myes\u001b[39m\u001b[39m\"\u001b[39m:\n\u001b[0;32m----> <a href='vscode-notebook-cell://codespaces%2Banimated-halibut-g4q645wpx64phwgw6/workspaces/Fall-2023-files/ClassActivities/Week05/1-Monday.ipynb#W5sdnNjb2RlLXJlbW90ZQ%3D%3D?line=5'>6</a>\u001b[0m     answer \u001b[39m=\u001b[39m \u001b[39minput\u001b[39;49m(\u001b[39m\"\u001b[39;49m\u001b[39mIs your number greater then \u001b[39;49m\u001b[39m\"\u001b[39;49m, n)\n\u001b[1;32m      <a href='vscode-notebook-cell://codespaces%2Banimated-halibut-g4q645wpx64phwgw6/workspaces/Fall-2023-files/ClassActivities/Week05/1-Monday.ipynb#W5sdnNjb2RlLXJlbW90ZQ%3D%3D?line=6'>7</a>\u001b[0m     n \u001b[39m+\u001b[39m\u001b[39m=\u001b[39m \u001b[39m1\u001b[39m\n",
            "\u001b[0;31mTypeError\u001b[0m: Kernel.raw_input() takes from 1 to 2 positional arguments but 3 were given"
          ]
        }
      ],
      "source": [
        "print(\"Hi\")\n",
        "n = 2\n",
        "answer = input(\"Is your number greater then 1?\")\n",
        "\n",
        "while answer == \"yes\":\n",
        "    answer = input(\"Is your number greater then \", n)\n",
        "    n += 1"
      ]
    },
    {
      "cell_type": "code",
      "execution_count": 3,
      "metadata": {},
      "outputs": [
        {
          "name": "stdout",
          "output_type": "stream",
          "text": [
            "120\n"
          ]
        }
      ],
      "source": [
        "def multiply(x,y):\n",
        "    counter = 0\n",
        "    total = 0\n",
        "    while counter < y:\n",
        "        total += x\n",
        "        counter += 1\n",
        "    return total\n",
        "\n",
        "print(multiply(3,40))"
      ]
    },
    {
      "cell_type": "code",
      "execution_count": null,
      "metadata": {},
      "outputs": [],
      "source": [
        "def mult(x,y):\n",
        "    total = 0\n",
        "    for counter in range(y):\n",
        "        total += x\n",
        "        return total\n",
        "\n",
        "print(mult(3,7))"
      ]
    }
  ],
  "metadata": {
    "colab": {
      "include_colab_link": true,
      "provenance": []
    },
    "kernelspec": {
      "display_name": "Python 3",
      "name": "python3"
    },
    "language_info": {
      "codemirror_mode": {
        "name": "ipython",
        "version": 3
      },
      "file_extension": ".py",
      "mimetype": "text/x-python",
      "name": "python",
      "nbconvert_exporter": "python",
      "pygments_lexer": "ipython3",
      "version": "3.10.8"
    }
  },
  "nbformat": 4,
  "nbformat_minor": 0
}
