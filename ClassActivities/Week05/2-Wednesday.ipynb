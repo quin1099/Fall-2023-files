{
  "cells": [
    {
      "cell_type": "markdown",
      "metadata": {},
      "source": [
        "# Monday, September 20\n",
        "## Before Class:\n",
        "Find a *new* group to sit with\n",
        "\n",
        "## Announcements and Reminders\n",
        "- Programming Assignment 2: Due tonight!  \n",
        "- Read Chapter 7: Due today.\n",
        "- Chapter 6 and 7 exercises due Monday\n",
        "- Programming Assigment 3: Due in 1 week\n",
        "- Exam 1: Monday, October 2\n",
        "\n",
        "### Questions:"
      ]
    },
    {
      "cell_type": "markdown",
      "metadata": {},
      "source": [
        "## Activity: Lots-o-Loops\n",
        "\n",
        "We have now seen three ways to use *iteration* (i.e. loops): we can use function recursion, a `while` loop, or a `for` loop.  \n",
        "\n",
        "Look at the three examples below."
      ]
    },
    {
      "cell_type": "code",
      "execution_count": 1,
      "metadata": {},
      "outputs": [
        {
          "name": "stdout",
          "output_type": "stream",
          "text": [
            "5050\n"
          ]
        }
      ],
      "source": [
        "def sumto(n, count=0):\n",
        "  if count < n:\n",
        "    return count + sumto(n, count+1)\n",
        "  else:\n",
        "    return n \n",
        "  \n",
        "print(sumto(100))"
      ]
    },
    {
      "cell_type": "code",
      "execution_count": 2,
      "metadata": {},
      "outputs": [
        {
          "name": "stdout",
          "output_type": "stream",
          "text": [
            "5050\n"
          ]
        }
      ],
      "source": [
        "def sumwhile(n):\n",
        "  sum = 0\n",
        "  count = 1\n",
        "  while count <= n:\n",
        "    sum = sum + count\n",
        "    count = count + 1\n",
        "  return sum\n",
        "\n",
        "print(sumwhile(100))"
      ]
    },
    {
      "cell_type": "code",
      "execution_count": null,
      "metadata": {},
      "outputs": [],
      "source": [
        "def sumfor(n):\n",
        "  sum = 0\n",
        "  for count in range(n+1):\n",
        "    sum = sum + count\n",
        "  return sum\n",
        "\n",
        "print(sumfor(100))"
      ]
    },
    {
      "cell_type": "markdown",
      "metadata": {},
      "source": [
        "As you can see, there are multiple ways to accomplish the same looping behavior.  Today you will practice converting between these.  For each example below, decide what the program is doing and then rewrite it using a different kind of loop (of your choice).  If you have extra time, try giving *another* implementation of it."
      ]
    },
    {
      "cell_type": "code",
      "execution_count": 9,
      "metadata": {},
      "outputs": [
        {
          "name": "stdout",
          "output_type": "stream",
          "text": [
            "1\n",
            "2\n",
            "3\n",
            "4\n"
          ]
        }
      ],
      "source": [
        "n = int(input(\"I can count to any number! I'll show you: give me a number under 10\"))\n",
        "\n",
        "def counting(num):\n",
        "  count = 1\n",
        "  while count <= num:\n",
        "    print(count)\n",
        "    count += 1\n",
        "\n",
        "counting(n)\n",
        "\n",
        "# Implement the above (or better) using a for or while loop below:"
      ]
    },
    {
      "cell_type": "code",
      "execution_count": 13,
      "metadata": {},
      "outputs": [
        {
          "ename": "KeyboardInterrupt",
          "evalue": "",
          "output_type": "error",
          "traceback": [
            "\u001b[0;31m---------------------------------------------------------------------------\u001b[0m",
            "\u001b[0;31mKeyboardInterrupt\u001b[0m                         Traceback (most recent call last)",
            "\u001b[1;32m/workspaces/Fall-2023-files/ClassActivities/Week05/2-Wednesday.ipynb Cell 8\u001b[0m line \u001b[0;36m9\n\u001b[1;32m      <a href='vscode-notebook-cell://codespaces%2Bzany-system-69gw9r7pv4g6h4rr9/workspaces/Fall-2023-files/ClassActivities/Week05/2-Wednesday.ipynb#X10sdnNjb2RlLXJlbW90ZQ%3D%3D?line=5'>6</a>\u001b[0m       num \u001b[39m=\u001b[39m num \u001b[39m+\u001b[39m \u001b[39m1\u001b[39m\n\u001b[1;32m      <a href='vscode-notebook-cell://codespaces%2Bzany-system-69gw9r7pv4g6h4rr9/workspaces/Fall-2023-files/ClassActivities/Week05/2-Wednesday.ipynb#X10sdnNjb2RlLXJlbW90ZQ%3D%3D?line=6'>7</a>\u001b[0m   \u001b[39mreturn\u001b[39;00m num\n\u001b[0;32m----> <a href='vscode-notebook-cell://codespaces%2Bzany-system-69gw9r7pv4g6h4rr9/workspaces/Fall-2023-files/ClassActivities/Week05/2-Wednesday.ipynb#X10sdnNjb2RlLXJlbW90ZQ%3D%3D?line=8'>9</a>\u001b[0m \u001b[39mprint\u001b[39m(countMultiples(\u001b[39m3\u001b[39;49m, \u001b[39m100\u001b[39;49m))\n\u001b[1;32m     <a href='vscode-notebook-cell://codespaces%2Bzany-system-69gw9r7pv4g6h4rr9/workspaces/Fall-2023-files/ClassActivities/Week05/2-Wednesday.ipynb#X10sdnNjb2RlLXJlbW90ZQ%3D%3D?line=10'>11</a>\u001b[0m \u001b[39m# Implement the function above, but this time use a while loop instead of a for loop.\u001b[39;00m\n\u001b[1;32m     <a href='vscode-notebook-cell://codespaces%2Bzany-system-69gw9r7pv4g6h4rr9/workspaces/Fall-2023-files/ClassActivities/Week05/2-Wednesday.ipynb#X10sdnNjb2RlLXJlbW90ZQ%3D%3D?line=12'>13</a>\u001b[0m \u001b[39mdef\u001b[39;00m \u001b[39mrecountMultiples\u001b[39m(n,k):\n",
            "\u001b[1;32m/workspaces/Fall-2023-files/ClassActivities/Week05/2-Wednesday.ipynb Cell 8\u001b[0m line \u001b[0;36m4\n\u001b[1;32m      <a href='vscode-notebook-cell://codespaces%2Bzany-system-69gw9r7pv4g6h4rr9/workspaces/Fall-2023-files/ClassActivities/Week05/2-Wednesday.ipynb#X10sdnNjb2RlLXJlbW90ZQ%3D%3D?line=1'>2</a>\u001b[0m count \u001b[39m=\u001b[39m \u001b[39m0\u001b[39m\n\u001b[1;32m      <a href='vscode-notebook-cell://codespaces%2Bzany-system-69gw9r7pv4g6h4rr9/workspaces/Fall-2023-files/ClassActivities/Week05/2-Wednesday.ipynb#X10sdnNjb2RlLXJlbW90ZQ%3D%3D?line=2'>3</a>\u001b[0m num \u001b[39m=\u001b[39m \u001b[39m0\u001b[39m\n\u001b[0;32m----> <a href='vscode-notebook-cell://codespaces%2Bzany-system-69gw9r7pv4g6h4rr9/workspaces/Fall-2023-files/ClassActivities/Week05/2-Wednesday.ipynb#X10sdnNjb2RlLXJlbW90ZQ%3D%3D?line=3'>4</a>\u001b[0m \u001b[39mwhile\u001b[39;00m count \u001b[39m<\u001b[39m k:\n\u001b[1;32m      <a href='vscode-notebook-cell://codespaces%2Bzany-system-69gw9r7pv4g6h4rr9/workspaces/Fall-2023-files/ClassActivities/Week05/2-Wednesday.ipynb#X10sdnNjb2RlLXJlbW90ZQ%3D%3D?line=4'>5</a>\u001b[0m   \u001b[39mif\u001b[39;00m count \u001b[39m%\u001b[39m n \u001b[39m==\u001b[39m \u001b[39m0\u001b[39m:\n\u001b[1;32m      <a href='vscode-notebook-cell://codespaces%2Bzany-system-69gw9r7pv4g6h4rr9/workspaces/Fall-2023-files/ClassActivities/Week05/2-Wednesday.ipynb#X10sdnNjb2RlLXJlbW90ZQ%3D%3D?line=5'>6</a>\u001b[0m     num \u001b[39m=\u001b[39m num \u001b[39m+\u001b[39m \u001b[39m1\u001b[39m\n",
            "\u001b[0;31mKeyboardInterrupt\u001b[0m: "
          ]
        }
      ],
      "source": [
        "def countMultiples(n, k):\n",
        "  count = 0\n",
        "  for i in range(k):\n",
        "    if i % n == 0:\n",
        "      count = count + 1\n",
        "  return count\n",
        "\n",
        "print(countMultiples(3, 100))\n",
        "\n",
        "# Implement the function above, but this time use a while loop instead of a for loop.\n",
        "\n",
        "def recountMultiples(n,k):\n",
        "  pass"
      ]
    },
    {
      "cell_type": "code",
      "execution_count": null,
      "metadata": {},
      "outputs": [],
      "source": [
        "def sqr(n):\n",
        "  total = 0\n",
        "  next = 1\n",
        "  counter = 0\n",
        "  while counter < n:\n",
        "    total = total + next\n",
        "    next = next + 2\n",
        "    counter = counter + 1\n",
        "  return total\n",
        "\n",
        "print(sqr(7))\n",
        "\n",
        "# Reimplement the function above but this time use a for loop instead of a while loop.\n",
        "\n",
        "def resqr(n):\n",
        "  pass"
      ]
    },
    {
      "cell_type": "code",
      "execution_count": null,
      "metadata": {},
      "outputs": [],
      "source": [
        "def fib(n):\n",
        "  if n == 0:\n",
        "    return 0\n",
        "  elif n == 1:\n",
        "    return 1\n",
        "  else:\n",
        "    return fib(n-1) + fib(n-2)\n",
        "  \n",
        "print(fib(4))\n",
        "\n",
        "# Implement the above function using either a for or while loop\n",
        "\n",
        "def refib(n):\n",
        "  pass"
      ]
    },
    {
      "cell_type": "markdown",
      "metadata": {},
      "source": [
        "### Counting things\n",
        "\n",
        "A great use of loops is to count *how many* things there are.  For example, consider the following function:"
      ]
    },
    {
      "cell_type": "code",
      "execution_count": null,
      "metadata": {},
      "outputs": [],
      "source": [
        "def countup(thing):\n",
        "  count = 0\n",
        "  for i in thing:\n",
        "    count = count+1\n",
        "  return count\n",
        "\n",
        "print(countup(\"One, Two, Three\"))\n",
        "\n",
        "print(countup([\"One\", \"Two\", \"Three\"]))\n",
        "\n",
        "print(countup(range(5, 17, 2)))"
      ]
    },
    {
      "cell_type": "markdown",
      "metadata": {},
      "source": [
        "So here is a challenge: How many different dominoes can there be?  A domino contains two sides, and each side has a number between 0 and 6 on it.  The domino (3,5) is the same as the domino (5,3).  So how many dominoes are there?  \n",
        "\n",
        "Let's write a function that computes this.  While we are at it, why don't we let the function answer more questions: instead of going up to 6, let's go up to any number we want.  Maybe we even ask the function to print out the dominoes for us."
      ]
    },
    {
      "cell_type": "code",
      "execution_count": null,
      "metadata": {},
      "outputs": [],
      "source": [
        "def dominoCounter(n):\n",
        "  pass"
      ]
    }
  ],
  "metadata": {
    "colab": {
      "include_colab_link": true,
      "provenance": []
    },
    "kernelspec": {
      "display_name": "Python 3",
      "name": "python3"
    },
    "language_info": {
      "codemirror_mode": {
        "name": "ipython",
        "version": 3
      },
      "file_extension": ".py",
      "mimetype": "text/x-python",
      "name": "python",
      "nbconvert_exporter": "python",
      "pygments_lexer": "ipython3",
      "version": "3.10.8"
    }
  },
  "nbformat": 4,
  "nbformat_minor": 0
}
